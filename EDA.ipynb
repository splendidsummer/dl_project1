{
 "cells": [
  {
   "cell_type": "code",
   "execution_count": 4,
   "id": "4cdd13c6",
   "metadata": {},
   "outputs": [],
   "source": [
    "import numpy as np\n",
    "import pandas as pd\n",
    "import matplotlib.pyplot as plt\n",
    "import pickle, json, os "
   ]
  },
  {
   "cell_type": "code",
   "execution_count": 74,
   "id": "7a061bde",
   "metadata": {},
   "outputs": [],
   "source": [
    "import shutil"
   ]
  },
  {
   "cell_type": "code",
   "execution_count": 56,
   "id": "1baaad94",
   "metadata": {},
   "outputs": [],
   "source": [
    "data_file = './data/'"
   ]
  },
  {
   "cell_type": "code",
   "execution_count": 76,
   "id": "6e70fc32",
   "metadata": {},
   "outputs": [],
   "source": [
    "img_folder = './data/MAMe_data_256/data_256/'"
   ]
  },
  {
   "cell_type": "code",
   "execution_count": 11,
   "id": "b76fd07b",
   "metadata": {},
   "outputs": [],
   "source": [
    "data_folder = 'data/MAMe_metadata/'\n",
    "data_csv = data_folder + 'MAMe_dataset.csv' \n",
    "label_csv = data_folder + 'MAMe_labels.csv'"
   ]
  },
  {
   "cell_type": "code",
   "execution_count": 12,
   "id": "12a6f793",
   "metadata": {
    "scrolled": false
   },
   "outputs": [],
   "source": [
    "data_df = pd.read_csv(data_csv) "
   ]
  },
  {
   "cell_type": "code",
   "execution_count": 14,
   "id": "a1cc47ac",
   "metadata": {
    "scrolled": true
   },
   "outputs": [
    {
     "data": {
      "text/html": [
       "<div>\n",
       "<style scoped>\n",
       "    .dataframe tbody tr th:only-of-type {\n",
       "        vertical-align: middle;\n",
       "    }\n",
       "\n",
       "    .dataframe tbody tr th {\n",
       "        vertical-align: top;\n",
       "    }\n",
       "\n",
       "    .dataframe thead th {\n",
       "        text-align: right;\n",
       "    }\n",
       "</style>\n",
       "<table border=\"1\" class=\"dataframe\">\n",
       "  <thead>\n",
       "    <tr style=\"text-align: right;\">\n",
       "      <th></th>\n",
       "      <th>Image file</th>\n",
       "      <th>Medium</th>\n",
       "      <th>Museum</th>\n",
       "      <th>Museum-based instance ID</th>\n",
       "      <th>Subset</th>\n",
       "      <th>Width</th>\n",
       "      <th>Height</th>\n",
       "      <th>Product size</th>\n",
       "      <th>Aspect ratio</th>\n",
       "    </tr>\n",
       "  </thead>\n",
       "  <tbody>\n",
       "    <tr>\n",
       "      <th>0</th>\n",
       "      <td>436018.jpg</td>\n",
       "      <td>Oil on canvas</td>\n",
       "      <td>Metropolitan Museum of Art</td>\n",
       "      <td>29.100.60</td>\n",
       "      <td>train</td>\n",
       "      <td>3144.0</td>\n",
       "      <td>3840.0</td>\n",
       "      <td>12072960.0</td>\n",
       "      <td>0.8187</td>\n",
       "    </tr>\n",
       "    <tr>\n",
       "      <th>1</th>\n",
       "      <td>11779.jpg</td>\n",
       "      <td>Oil on canvas</td>\n",
       "      <td>Metropolitan Museum of Art</td>\n",
       "      <td>1982.373</td>\n",
       "      <td>train</td>\n",
       "      <td>1707.0</td>\n",
       "      <td>2136.0</td>\n",
       "      <td>3646152.0</td>\n",
       "      <td>0.7992</td>\n",
       "    </tr>\n",
       "    <tr>\n",
       "      <th>2</th>\n",
       "      <td>19022.jpg</td>\n",
       "      <td>Oil on canvas</td>\n",
       "      <td>Metropolitan Museum of Art</td>\n",
       "      <td>2006.418</td>\n",
       "      <td>train</td>\n",
       "      <td>2845.0</td>\n",
       "      <td>3811.0</td>\n",
       "      <td>10842295.0</td>\n",
       "      <td>0.7465</td>\n",
       "    </tr>\n",
       "    <tr>\n",
       "      <th>3</th>\n",
       "      <td>435883.jpg</td>\n",
       "      <td>Oil on canvas</td>\n",
       "      <td>Metropolitan Museum of Art</td>\n",
       "      <td>61.101.3</td>\n",
       "      <td>train</td>\n",
       "      <td>3811.0</td>\n",
       "      <td>2916.0</td>\n",
       "      <td>11112876.0</td>\n",
       "      <td>1.3069</td>\n",
       "    </tr>\n",
       "    <tr>\n",
       "      <th>4</th>\n",
       "      <td>10481.jpg</td>\n",
       "      <td>Oil on canvas</td>\n",
       "      <td>Metropolitan Museum of Art</td>\n",
       "      <td>09.95</td>\n",
       "      <td>train</td>\n",
       "      <td>3811.0</td>\n",
       "      <td>2099.0</td>\n",
       "      <td>7999289.0</td>\n",
       "      <td>1.8156</td>\n",
       "    </tr>\n",
       "    <tr>\n",
       "      <th>5</th>\n",
       "      <td>13345.jpg</td>\n",
       "      <td>Oil on canvas</td>\n",
       "      <td>Metropolitan Museum of Art</td>\n",
       "      <td>84.12a</td>\n",
       "      <td>train</td>\n",
       "      <td>2655.0</td>\n",
       "      <td>3722.0</td>\n",
       "      <td>9881910.0</td>\n",
       "      <td>0.7133</td>\n",
       "    </tr>\n",
       "    <tr>\n",
       "      <th>6</th>\n",
       "      <td>10215.jpg</td>\n",
       "      <td>Oil on canvas</td>\n",
       "      <td>Metropolitan Museum of Art</td>\n",
       "      <td>08.237.3</td>\n",
       "      <td>train</td>\n",
       "      <td>2421.0</td>\n",
       "      <td>1146.0</td>\n",
       "      <td>2774466.0</td>\n",
       "      <td>2.1126</td>\n",
       "    </tr>\n",
       "    <tr>\n",
       "      <th>7</th>\n",
       "      <td>437974.jpg</td>\n",
       "      <td>Oil on canvas</td>\n",
       "      <td>Metropolitan Museum of Art</td>\n",
       "      <td>1996.285</td>\n",
       "      <td>train</td>\n",
       "      <td>3080.0</td>\n",
       "      <td>3722.0</td>\n",
       "      <td>11463760.0</td>\n",
       "      <td>0.8275</td>\n",
       "    </tr>\n",
       "    <tr>\n",
       "      <th>8</th>\n",
       "      <td>11974.jpg</td>\n",
       "      <td>Oil on canvas</td>\n",
       "      <td>Metropolitan Museum of Art</td>\n",
       "      <td>1988.353</td>\n",
       "      <td>train</td>\n",
       "      <td>3803.0</td>\n",
       "      <td>3175.0</td>\n",
       "      <td>12074525.0</td>\n",
       "      <td>1.1978</td>\n",
       "    </tr>\n",
       "    <tr>\n",
       "      <th>9</th>\n",
       "      <td>436876.jpg</td>\n",
       "      <td>Oil on canvas</td>\n",
       "      <td>Metropolitan Museum of Art</td>\n",
       "      <td>25.110.46</td>\n",
       "      <td>train</td>\n",
       "      <td>1245.0</td>\n",
       "      <td>1773.0</td>\n",
       "      <td>2207385.0</td>\n",
       "      <td>0.7022</td>\n",
       "    </tr>\n",
       "    <tr>\n",
       "      <th>10</th>\n",
       "      <td>10474.jpg</td>\n",
       "      <td>Oil on canvas</td>\n",
       "      <td>Metropolitan Museum of Art</td>\n",
       "      <td>37.20.1</td>\n",
       "      <td>train</td>\n",
       "      <td>1611.0</td>\n",
       "      <td>2013.0</td>\n",
       "      <td>3242943.0</td>\n",
       "      <td>0.8003</td>\n",
       "    </tr>\n",
       "    <tr>\n",
       "      <th>11</th>\n",
       "      <td>437791.jpg</td>\n",
       "      <td>Oil on canvas</td>\n",
       "      <td>Metropolitan Museum of Art</td>\n",
       "      <td>1980.363</td>\n",
       "      <td>train</td>\n",
       "      <td>3038.0</td>\n",
       "      <td>3716.0</td>\n",
       "      <td>11289208.0</td>\n",
       "      <td>0.8175</td>\n",
       "    </tr>\n",
       "    <tr>\n",
       "      <th>12</th>\n",
       "      <td>11177.jpg</td>\n",
       "      <td>Oil on canvas</td>\n",
       "      <td>Metropolitan Museum of Art</td>\n",
       "      <td>08.88</td>\n",
       "      <td>train</td>\n",
       "      <td>3020.0</td>\n",
       "      <td>3921.0</td>\n",
       "      <td>11841420.0</td>\n",
       "      <td>0.7702</td>\n",
       "    </tr>\n",
       "    <tr>\n",
       "      <th>13</th>\n",
       "      <td>16743.jpg</td>\n",
       "      <td>Oil on canvas</td>\n",
       "      <td>Metropolitan Museum of Art</td>\n",
       "      <td>39.184.18</td>\n",
       "      <td>train</td>\n",
       "      <td>1814.0</td>\n",
       "      <td>1331.0</td>\n",
       "      <td>2414434.0</td>\n",
       "      <td>1.3629</td>\n",
       "    </tr>\n",
       "    <tr>\n",
       "      <th>14</th>\n",
       "      <td>10472.jpg</td>\n",
       "      <td>Oil on canvas</td>\n",
       "      <td>Metropolitan Museum of Art</td>\n",
       "      <td>55.118</td>\n",
       "      <td>train</td>\n",
       "      <td>1429.0</td>\n",
       "      <td>1869.0</td>\n",
       "      <td>2670801.0</td>\n",
       "      <td>0.7646</td>\n",
       "    </tr>\n",
       "    <tr>\n",
       "      <th>15</th>\n",
       "      <td>435713.jpg</td>\n",
       "      <td>Oil on canvas</td>\n",
       "      <td>Metropolitan Museum of Art</td>\n",
       "      <td>1972.261</td>\n",
       "      <td>train</td>\n",
       "      <td>2758.0</td>\n",
       "      <td>3797.0</td>\n",
       "      <td>10472126.0</td>\n",
       "      <td>0.7264</td>\n",
       "    </tr>\n",
       "    <tr>\n",
       "      <th>16</th>\n",
       "      <td>437971.jpg</td>\n",
       "      <td>Oil on canvas</td>\n",
       "      <td>Metropolitan Museum of Art</td>\n",
       "      <td>27.137</td>\n",
       "      <td>train</td>\n",
       "      <td>2985.0</td>\n",
       "      <td>3722.0</td>\n",
       "      <td>11110170.0</td>\n",
       "      <td>0.8020</td>\n",
       "    </tr>\n",
       "    <tr>\n",
       "      <th>17</th>\n",
       "      <td>435874.jpg</td>\n",
       "      <td>Oil on canvas</td>\n",
       "      <td>Metropolitan Museum of Art</td>\n",
       "      <td>1993.400.2</td>\n",
       "      <td>train</td>\n",
       "      <td>2978.0</td>\n",
       "      <td>3722.0</td>\n",
       "      <td>11084116.0</td>\n",
       "      <td>0.8001</td>\n",
       "    </tr>\n",
       "    <tr>\n",
       "      <th>18</th>\n",
       "      <td>437658.jpg</td>\n",
       "      <td>Oil on canvas</td>\n",
       "      <td>Metropolitan Museum of Art</td>\n",
       "      <td>51.112.6</td>\n",
       "      <td>train</td>\n",
       "      <td>1959.0</td>\n",
       "      <td>1332.0</td>\n",
       "      <td>2609388.0</td>\n",
       "      <td>1.4707</td>\n",
       "    </tr>\n",
       "    <tr>\n",
       "      <th>19</th>\n",
       "      <td>436519.jpg</td>\n",
       "      <td>Oil on canvas</td>\n",
       "      <td>Metropolitan Museum of Art</td>\n",
       "      <td>87.15.74</td>\n",
       "      <td>train</td>\n",
       "      <td>1440.0</td>\n",
       "      <td>1904.0</td>\n",
       "      <td>2741760.0</td>\n",
       "      <td>0.7563</td>\n",
       "    </tr>\n",
       "  </tbody>\n",
       "</table>\n",
       "</div>"
      ],
      "text/plain": [
       "    Image file         Medium                      Museum  \\\n",
       "0   436018.jpg  Oil on canvas  Metropolitan Museum of Art   \n",
       "1    11779.jpg  Oil on canvas  Metropolitan Museum of Art   \n",
       "2    19022.jpg  Oil on canvas  Metropolitan Museum of Art   \n",
       "3   435883.jpg  Oil on canvas  Metropolitan Museum of Art   \n",
       "4    10481.jpg  Oil on canvas  Metropolitan Museum of Art   \n",
       "5    13345.jpg  Oil on canvas  Metropolitan Museum of Art   \n",
       "6    10215.jpg  Oil on canvas  Metropolitan Museum of Art   \n",
       "7   437974.jpg  Oil on canvas  Metropolitan Museum of Art   \n",
       "8    11974.jpg  Oil on canvas  Metropolitan Museum of Art   \n",
       "9   436876.jpg  Oil on canvas  Metropolitan Museum of Art   \n",
       "10   10474.jpg  Oil on canvas  Metropolitan Museum of Art   \n",
       "11  437791.jpg  Oil on canvas  Metropolitan Museum of Art   \n",
       "12   11177.jpg  Oil on canvas  Metropolitan Museum of Art   \n",
       "13   16743.jpg  Oil on canvas  Metropolitan Museum of Art   \n",
       "14   10472.jpg  Oil on canvas  Metropolitan Museum of Art   \n",
       "15  435713.jpg  Oil on canvas  Metropolitan Museum of Art   \n",
       "16  437971.jpg  Oil on canvas  Metropolitan Museum of Art   \n",
       "17  435874.jpg  Oil on canvas  Metropolitan Museum of Art   \n",
       "18  437658.jpg  Oil on canvas  Metropolitan Museum of Art   \n",
       "19  436519.jpg  Oil on canvas  Metropolitan Museum of Art   \n",
       "\n",
       "   Museum-based instance ID Subset   Width  Height  Product size  Aspect ratio  \n",
       "0                 29.100.60  train  3144.0  3840.0    12072960.0        0.8187  \n",
       "1                  1982.373  train  1707.0  2136.0     3646152.0        0.7992  \n",
       "2                  2006.418  train  2845.0  3811.0    10842295.0        0.7465  \n",
       "3                  61.101.3  train  3811.0  2916.0    11112876.0        1.3069  \n",
       "4                     09.95  train  3811.0  2099.0     7999289.0        1.8156  \n",
       "5                    84.12a  train  2655.0  3722.0     9881910.0        0.7133  \n",
       "6                  08.237.3  train  2421.0  1146.0     2774466.0        2.1126  \n",
       "7                  1996.285  train  3080.0  3722.0    11463760.0        0.8275  \n",
       "8                  1988.353  train  3803.0  3175.0    12074525.0        1.1978  \n",
       "9                 25.110.46  train  1245.0  1773.0     2207385.0        0.7022  \n",
       "10                  37.20.1  train  1611.0  2013.0     3242943.0        0.8003  \n",
       "11                 1980.363  train  3038.0  3716.0    11289208.0        0.8175  \n",
       "12                    08.88  train  3020.0  3921.0    11841420.0        0.7702  \n",
       "13                39.184.18  train  1814.0  1331.0     2414434.0        1.3629  \n",
       "14                   55.118  train  1429.0  1869.0     2670801.0        0.7646  \n",
       "15                 1972.261  train  2758.0  3797.0    10472126.0        0.7264  \n",
       "16                   27.137  train  2985.0  3722.0    11110170.0        0.8020  \n",
       "17               1993.400.2  train  2978.0  3722.0    11084116.0        0.8001  \n",
       "18                 51.112.6  train  1959.0  1332.0     2609388.0        1.4707  \n",
       "19                 87.15.74  train  1440.0  1904.0     2741760.0        0.7563  "
      ]
     },
     "execution_count": 14,
     "metadata": {},
     "output_type": "execute_result"
    }
   ],
   "source": [
    "data_df.head(20) "
   ]
  },
  {
   "cell_type": "code",
   "execution_count": 15,
   "id": "402144de",
   "metadata": {},
   "outputs": [
    {
     "name": "stdout",
     "output_type": "stream",
     "text": [
      "<class 'pandas.core.frame.DataFrame'>\n",
      "RangeIndex: 37407 entries, 0 to 37406\n",
      "Data columns (total 9 columns):\n",
      " #   Column                    Non-Null Count  Dtype  \n",
      "---  ------                    --------------  -----  \n",
      " 0   Image file                37407 non-null  object \n",
      " 1   Medium                    37407 non-null  object \n",
      " 2   Museum                    37407 non-null  object \n",
      " 3   Museum-based instance ID  37407 non-null  object \n",
      " 4   Subset                    37407 non-null  object \n",
      " 5   Width                     37407 non-null  float64\n",
      " 6   Height                    37407 non-null  float64\n",
      " 7   Product size              37407 non-null  float64\n",
      " 8   Aspect ratio              37407 non-null  float64\n",
      "dtypes: float64(4), object(5)\n",
      "memory usage: 2.6+ MB\n"
     ]
    }
   ],
   "source": [
    "data_df.info() "
   ]
  },
  {
   "cell_type": "code",
   "execution_count": 16,
   "id": "b262cc90",
   "metadata": {},
   "outputs": [
    {
     "data": {
      "text/html": [
       "<div>\n",
       "<style scoped>\n",
       "    .dataframe tbody tr th:only-of-type {\n",
       "        vertical-align: middle;\n",
       "    }\n",
       "\n",
       "    .dataframe tbody tr th {\n",
       "        vertical-align: top;\n",
       "    }\n",
       "\n",
       "    .dataframe thead th {\n",
       "        text-align: right;\n",
       "    }\n",
       "</style>\n",
       "<table border=\"1\" class=\"dataframe\">\n",
       "  <thead>\n",
       "    <tr style=\"text-align: right;\">\n",
       "      <th></th>\n",
       "      <th>Width</th>\n",
       "      <th>Height</th>\n",
       "      <th>Product size</th>\n",
       "      <th>Aspect ratio</th>\n",
       "    </tr>\n",
       "  </thead>\n",
       "  <tbody>\n",
       "    <tr>\n",
       "      <th>count</th>\n",
       "      <td>37407.000000</td>\n",
       "      <td>37407.000000</td>\n",
       "      <td>3.740700e+04</td>\n",
       "      <td>37407.000000</td>\n",
       "    </tr>\n",
       "    <tr>\n",
       "      <th>mean</th>\n",
       "      <td>2841.856711</td>\n",
       "      <td>2995.828936</td>\n",
       "      <td>1.032388e+07</td>\n",
       "      <td>1.028169</td>\n",
       "    </tr>\n",
       "    <tr>\n",
       "      <th>std</th>\n",
       "      <td>1573.004179</td>\n",
       "      <td>1601.247010</td>\n",
       "      <td>1.231509e+07</td>\n",
       "      <td>0.478613</td>\n",
       "    </tr>\n",
       "    <tr>\n",
       "      <th>min</th>\n",
       "      <td>224.000000</td>\n",
       "      <td>235.000000</td>\n",
       "      <td>2.502400e+05</td>\n",
       "      <td>0.112300</td>\n",
       "    </tr>\n",
       "    <tr>\n",
       "      <th>25%</th>\n",
       "      <td>1824.000000</td>\n",
       "      <td>1918.500000</td>\n",
       "      <td>3.408000e+06</td>\n",
       "      <td>0.704100</td>\n",
       "    </tr>\n",
       "    <tr>\n",
       "      <th>50%</th>\n",
       "      <td>2667.000000</td>\n",
       "      <td>2900.000000</td>\n",
       "      <td>8.104191e+06</td>\n",
       "      <td>0.910500</td>\n",
       "    </tr>\n",
       "    <tr>\n",
       "      <th>75%</th>\n",
       "      <td>3773.000000</td>\n",
       "      <td>3842.000000</td>\n",
       "      <td>1.209547e+07</td>\n",
       "      <td>1.303550</td>\n",
       "    </tr>\n",
       "    <tr>\n",
       "      <th>max</th>\n",
       "      <td>32683.000000</td>\n",
       "      <td>23577.000000</td>\n",
       "      <td>3.729784e+08</td>\n",
       "      <td>15.001900</td>\n",
       "    </tr>\n",
       "  </tbody>\n",
       "</table>\n",
       "</div>"
      ],
      "text/plain": [
       "              Width        Height  Product size  Aspect ratio\n",
       "count  37407.000000  37407.000000  3.740700e+04  37407.000000\n",
       "mean    2841.856711   2995.828936  1.032388e+07      1.028169\n",
       "std     1573.004179   1601.247010  1.231509e+07      0.478613\n",
       "min      224.000000    235.000000  2.502400e+05      0.112300\n",
       "25%     1824.000000   1918.500000  3.408000e+06      0.704100\n",
       "50%     2667.000000   2900.000000  8.104191e+06      0.910500\n",
       "75%     3773.000000   3842.000000  1.209547e+07      1.303550\n",
       "max    32683.000000  23577.000000  3.729784e+08     15.001900"
      ]
     },
     "execution_count": 16,
     "metadata": {},
     "output_type": "execute_result"
    }
   ],
   "source": [
    "data_df.describe() "
   ]
  },
  {
   "cell_type": "code",
   "execution_count": 65,
   "id": "77f3cfe9",
   "metadata": {
    "scrolled": true
   },
   "outputs": [
    {
     "data": {
      "text/plain": [
       "Index(['Image file', 'Medium', 'Museum', 'Museum-based instance ID', 'Subset',\n",
       "       'Width', 'Height', 'Product size', 'Aspect ratio'],\n",
       "      dtype='object')"
      ]
     },
     "execution_count": 65,
     "metadata": {},
     "output_type": "execute_result"
    }
   ],
   "source": [
    "cols = data_df.columns \n",
    "cols"
   ]
  },
  {
   "cell_type": "code",
   "execution_count": 27,
   "id": "1386668b",
   "metadata": {},
   "outputs": [],
   "source": [
    "subsets =  data_df['Subset']. unique().tolist() "
   ]
  },
  {
   "cell_type": "code",
   "execution_count": 33,
   "id": "be9e630e",
   "metadata": {},
   "outputs": [
    {
     "data": {
      "text/plain": [
       "['train', 'val', 'test']"
      ]
     },
     "execution_count": 33,
     "metadata": {},
     "output_type": "execute_result"
    }
   ],
   "source": [
    "subsets"
   ]
  },
  {
   "cell_type": "code",
   "execution_count": 36,
   "id": "aef2bcbd",
   "metadata": {},
   "outputs": [
    {
     "name": "stdout",
     "output_type": "stream",
     "text": [
      "20300 train examples in MAME dataset\n",
      "1450 val examples in MAME dataset\n",
      "15657 test examples in MAME dataset\n"
     ]
    }
   ],
   "source": [
    "for subset in subsets:\n",
    "    subset_df = data_df[data_df['Subset'] == subset] \n",
    "    print('{} {} examples in MAME dataset'.format(len(subset_df), subset))    "
   ]
  },
  {
   "cell_type": "code",
   "execution_count": 61,
   "id": "d534ecd4",
   "metadata": {
    "scrolled": true
   },
   "outputs": [],
   "source": [
    "classes = sorted(data_df['Medium'].unique())"
   ]
  },
  {
   "cell_type": "code",
   "execution_count": 62,
   "id": "2ea81f8f",
   "metadata": {},
   "outputs": [
    {
     "data": {
      "text/plain": [
       "29"
      ]
     },
     "execution_count": 62,
     "metadata": {},
     "output_type": "execute_result"
    }
   ],
   "source": [
    "num_classes = len(classes) \n",
    "num_classes"
   ]
  },
  {
   "cell_type": "code",
   "execution_count": 63,
   "id": "8462b93c",
   "metadata": {},
   "outputs": [],
   "source": [
    "cls_folder_dict = {'train': dict(), 'val': dict(), 'test': dict()}"
   ]
  },
  {
   "cell_type": "code",
   "execution_count": 64,
   "id": "65906a09",
   "metadata": {},
   "outputs": [],
   "source": [
    "for subset in subsets:\n",
    "    subset_folder = data_file + subset\n",
    "    if not os.path.exists(subset_folder):\n",
    "        os.mkdir(subset_folder)\n",
    "    for cls in classes:\n",
    "        cls_folder = subset_folder + '/' + cls + '/'\n",
    "        cls_folder_dict[subset][cls] = cls_folder\n",
    "        if not os.path.exists(cls_folder):\n",
    "            os.mkdir(cls_folder)"
   ]
  },
  {
   "cell_type": "code",
   "execution_count": 78,
   "id": "7bbed419",
   "metadata": {},
   "outputs": [],
   "source": [
    "new_img_paths = []"
   ]
  },
  {
   "cell_type": "code",
   "execution_count": 67,
   "id": "333440ca",
   "metadata": {},
   "outputs": [],
   "source": [
    "image_files = data_df[cols[0]].values\n",
    "image_subsets = data_df[cols[4]].values\n",
    "image_cls = data_df[cols[1]].values "
   ]
  },
  {
   "cell_type": "code",
   "execution_count": 95,
   "id": "b1f8fbc6",
   "metadata": {},
   "outputs": [],
   "source": [
    "for path, subset, cls in zip(image_files, image_subsets, image_cls):\n",
    "    \n",
    "    org_img_path = img_folder + path \n",
    "    img_path = cls_folder_dict[subset][cls] + path \n",
    "    new_img_paths.append(img_path)\n",
    "    shutil.copyfile(org_img_path, img_path)"
   ]
  },
  {
   "cell_type": "code",
   "execution_count": 80,
   "id": "ade5640a",
   "metadata": {},
   "outputs": [
    {
     "data": {
      "text/plain": [
       "37407"
      ]
     },
     "execution_count": 80,
     "metadata": {},
     "output_type": "execute_result"
    }
   ],
   "source": [
    "len(new_img_paths)"
   ]
  },
  {
   "cell_type": "code",
   "execution_count": 84,
   "id": "84d88776",
   "metadata": {},
   "outputs": [],
   "source": [
    "data_df['Organized_img_path'] = new_img_paths"
   ]
  },
  {
   "cell_type": "code",
   "execution_count": 86,
   "id": "e5131ee5",
   "metadata": {
    "scrolled": false
   },
   "outputs": [
    {
     "data": {
      "text/html": [
       "<div>\n",
       "<style scoped>\n",
       "    .dataframe tbody tr th:only-of-type {\n",
       "        vertical-align: middle;\n",
       "    }\n",
       "\n",
       "    .dataframe tbody tr th {\n",
       "        vertical-align: top;\n",
       "    }\n",
       "\n",
       "    .dataframe thead th {\n",
       "        text-align: right;\n",
       "    }\n",
       "</style>\n",
       "<table border=\"1\" class=\"dataframe\">\n",
       "  <thead>\n",
       "    <tr style=\"text-align: right;\">\n",
       "      <th></th>\n",
       "      <th>Image file</th>\n",
       "      <th>Medium</th>\n",
       "      <th>Museum</th>\n",
       "      <th>Museum-based instance ID</th>\n",
       "      <th>Subset</th>\n",
       "      <th>Width</th>\n",
       "      <th>Height</th>\n",
       "      <th>Product size</th>\n",
       "      <th>Aspect ratio</th>\n",
       "      <th>organized_img_path</th>\n",
       "      <th>Organized_img_path</th>\n",
       "    </tr>\n",
       "  </thead>\n",
       "  <tbody>\n",
       "    <tr>\n",
       "      <th>0</th>\n",
       "      <td>436018.jpg</td>\n",
       "      <td>Oil on canvas</td>\n",
       "      <td>Metropolitan Museum of Art</td>\n",
       "      <td>29.100.60</td>\n",
       "      <td>train</td>\n",
       "      <td>3144.0</td>\n",
       "      <td>3840.0</td>\n",
       "      <td>12072960.0</td>\n",
       "      <td>0.8187</td>\n",
       "      <td>./data/train/Oil on canvas/436018.jpg</td>\n",
       "      <td>./data/train/Oil on canvas/436018.jpg</td>\n",
       "    </tr>\n",
       "    <tr>\n",
       "      <th>1</th>\n",
       "      <td>11779.jpg</td>\n",
       "      <td>Oil on canvas</td>\n",
       "      <td>Metropolitan Museum of Art</td>\n",
       "      <td>1982.373</td>\n",
       "      <td>train</td>\n",
       "      <td>1707.0</td>\n",
       "      <td>2136.0</td>\n",
       "      <td>3646152.0</td>\n",
       "      <td>0.7992</td>\n",
       "      <td>./data/train/Oil on canvas/11779.jpg</td>\n",
       "      <td>./data/train/Oil on canvas/11779.jpg</td>\n",
       "    </tr>\n",
       "    <tr>\n",
       "      <th>2</th>\n",
       "      <td>19022.jpg</td>\n",
       "      <td>Oil on canvas</td>\n",
       "      <td>Metropolitan Museum of Art</td>\n",
       "      <td>2006.418</td>\n",
       "      <td>train</td>\n",
       "      <td>2845.0</td>\n",
       "      <td>3811.0</td>\n",
       "      <td>10842295.0</td>\n",
       "      <td>0.7465</td>\n",
       "      <td>./data/train/Oil on canvas/19022.jpg</td>\n",
       "      <td>./data/train/Oil on canvas/19022.jpg</td>\n",
       "    </tr>\n",
       "    <tr>\n",
       "      <th>3</th>\n",
       "      <td>435883.jpg</td>\n",
       "      <td>Oil on canvas</td>\n",
       "      <td>Metropolitan Museum of Art</td>\n",
       "      <td>61.101.3</td>\n",
       "      <td>train</td>\n",
       "      <td>3811.0</td>\n",
       "      <td>2916.0</td>\n",
       "      <td>11112876.0</td>\n",
       "      <td>1.3069</td>\n",
       "      <td>./data/train/Oil on canvas/435883.jpg</td>\n",
       "      <td>./data/train/Oil on canvas/435883.jpg</td>\n",
       "    </tr>\n",
       "    <tr>\n",
       "      <th>4</th>\n",
       "      <td>10481.jpg</td>\n",
       "      <td>Oil on canvas</td>\n",
       "      <td>Metropolitan Museum of Art</td>\n",
       "      <td>09.95</td>\n",
       "      <td>train</td>\n",
       "      <td>3811.0</td>\n",
       "      <td>2099.0</td>\n",
       "      <td>7999289.0</td>\n",
       "      <td>1.8156</td>\n",
       "      <td>./data/train/Oil on canvas/10481.jpg</td>\n",
       "      <td>./data/train/Oil on canvas/10481.jpg</td>\n",
       "    </tr>\n",
       "  </tbody>\n",
       "</table>\n",
       "</div>"
      ],
      "text/plain": [
       "   Image file         Medium                      Museum  \\\n",
       "0  436018.jpg  Oil on canvas  Metropolitan Museum of Art   \n",
       "1   11779.jpg  Oil on canvas  Metropolitan Museum of Art   \n",
       "2   19022.jpg  Oil on canvas  Metropolitan Museum of Art   \n",
       "3  435883.jpg  Oil on canvas  Metropolitan Museum of Art   \n",
       "4   10481.jpg  Oil on canvas  Metropolitan Museum of Art   \n",
       "\n",
       "  Museum-based instance ID Subset   Width  Height  Product size  Aspect ratio  \\\n",
       "0                29.100.60  train  3144.0  3840.0    12072960.0        0.8187   \n",
       "1                 1982.373  train  1707.0  2136.0     3646152.0        0.7992   \n",
       "2                 2006.418  train  2845.0  3811.0    10842295.0        0.7465   \n",
       "3                 61.101.3  train  3811.0  2916.0    11112876.0        1.3069   \n",
       "4                    09.95  train  3811.0  2099.0     7999289.0        1.8156   \n",
       "\n",
       "                      organized_img_path  \\\n",
       "0  ./data/train/Oil on canvas/436018.jpg   \n",
       "1   ./data/train/Oil on canvas/11779.jpg   \n",
       "2   ./data/train/Oil on canvas/19022.jpg   \n",
       "3  ./data/train/Oil on canvas/435883.jpg   \n",
       "4   ./data/train/Oil on canvas/10481.jpg   \n",
       "\n",
       "                      Organized_img_path  \n",
       "0  ./data/train/Oil on canvas/436018.jpg  \n",
       "1   ./data/train/Oil on canvas/11779.jpg  \n",
       "2   ./data/train/Oil on canvas/19022.jpg  \n",
       "3  ./data/train/Oil on canvas/435883.jpg  \n",
       "4   ./data/train/Oil on canvas/10481.jpg  "
      ]
     },
     "execution_count": 86,
     "metadata": {},
     "output_type": "execute_result"
    }
   ],
   "source": [
    "data_df.head(5)"
   ]
  },
  {
   "cell_type": "code",
   "execution_count": 89,
   "id": "868622de",
   "metadata": {},
   "outputs": [
    {
     "data": {
      "text/html": [
       "<div>\n",
       "<style scoped>\n",
       "    .dataframe tbody tr th:only-of-type {\n",
       "        vertical-align: middle;\n",
       "    }\n",
       "\n",
       "    .dataframe tbody tr th {\n",
       "        vertical-align: top;\n",
       "    }\n",
       "\n",
       "    .dataframe thead th {\n",
       "        text-align: right;\n",
       "    }\n",
       "</style>\n",
       "<table border=\"1\" class=\"dataframe\">\n",
       "  <thead>\n",
       "    <tr style=\"text-align: right;\">\n",
       "      <th></th>\n",
       "      <th>Image file</th>\n",
       "      <th>Medium</th>\n",
       "      <th>Museum</th>\n",
       "      <th>Museum-based instance ID</th>\n",
       "      <th>Subset</th>\n",
       "      <th>Width</th>\n",
       "      <th>Height</th>\n",
       "      <th>Product size</th>\n",
       "      <th>Aspect ratio</th>\n",
       "      <th>organized_img_path</th>\n",
       "      <th>Organized_img_path</th>\n",
       "    </tr>\n",
       "  </thead>\n",
       "  <tbody>\n",
       "    <tr>\n",
       "      <th>0</th>\n",
       "      <td>436018.jpg</td>\n",
       "      <td>Oil on canvas</td>\n",
       "      <td>Metropolitan Museum of Art</td>\n",
       "      <td>29.100.60</td>\n",
       "      <td>train</td>\n",
       "      <td>3144.0</td>\n",
       "      <td>3840.0</td>\n",
       "      <td>12072960.0</td>\n",
       "      <td>0.8187</td>\n",
       "      <td>./data/train/Oil on canvas/436018.jpg</td>\n",
       "      <td>./data/train/Oil on canvas/436018.jpg</td>\n",
       "    </tr>\n",
       "    <tr>\n",
       "      <th>1</th>\n",
       "      <td>11779.jpg</td>\n",
       "      <td>Oil on canvas</td>\n",
       "      <td>Metropolitan Museum of Art</td>\n",
       "      <td>1982.373</td>\n",
       "      <td>train</td>\n",
       "      <td>1707.0</td>\n",
       "      <td>2136.0</td>\n",
       "      <td>3646152.0</td>\n",
       "      <td>0.7992</td>\n",
       "      <td>./data/train/Oil on canvas/11779.jpg</td>\n",
       "      <td>./data/train/Oil on canvas/11779.jpg</td>\n",
       "    </tr>\n",
       "    <tr>\n",
       "      <th>2</th>\n",
       "      <td>19022.jpg</td>\n",
       "      <td>Oil on canvas</td>\n",
       "      <td>Metropolitan Museum of Art</td>\n",
       "      <td>2006.418</td>\n",
       "      <td>train</td>\n",
       "      <td>2845.0</td>\n",
       "      <td>3811.0</td>\n",
       "      <td>10842295.0</td>\n",
       "      <td>0.7465</td>\n",
       "      <td>./data/train/Oil on canvas/19022.jpg</td>\n",
       "      <td>./data/train/Oil on canvas/19022.jpg</td>\n",
       "    </tr>\n",
       "    <tr>\n",
       "      <th>3</th>\n",
       "      <td>435883.jpg</td>\n",
       "      <td>Oil on canvas</td>\n",
       "      <td>Metropolitan Museum of Art</td>\n",
       "      <td>61.101.3</td>\n",
       "      <td>train</td>\n",
       "      <td>3811.0</td>\n",
       "      <td>2916.0</td>\n",
       "      <td>11112876.0</td>\n",
       "      <td>1.3069</td>\n",
       "      <td>./data/train/Oil on canvas/435883.jpg</td>\n",
       "      <td>./data/train/Oil on canvas/435883.jpg</td>\n",
       "    </tr>\n",
       "    <tr>\n",
       "      <th>4</th>\n",
       "      <td>10481.jpg</td>\n",
       "      <td>Oil on canvas</td>\n",
       "      <td>Metropolitan Museum of Art</td>\n",
       "      <td>09.95</td>\n",
       "      <td>train</td>\n",
       "      <td>3811.0</td>\n",
       "      <td>2099.0</td>\n",
       "      <td>7999289.0</td>\n",
       "      <td>1.8156</td>\n",
       "      <td>./data/train/Oil on canvas/10481.jpg</td>\n",
       "      <td>./data/train/Oil on canvas/10481.jpg</td>\n",
       "    </tr>\n",
       "  </tbody>\n",
       "</table>\n",
       "</div>"
      ],
      "text/plain": [
       "   Image file         Medium                      Museum  \\\n",
       "0  436018.jpg  Oil on canvas  Metropolitan Museum of Art   \n",
       "1   11779.jpg  Oil on canvas  Metropolitan Museum of Art   \n",
       "2   19022.jpg  Oil on canvas  Metropolitan Museum of Art   \n",
       "3  435883.jpg  Oil on canvas  Metropolitan Museum of Art   \n",
       "4   10481.jpg  Oil on canvas  Metropolitan Museum of Art   \n",
       "\n",
       "  Museum-based instance ID Subset   Width  Height  Product size  Aspect ratio  \\\n",
       "0                29.100.60  train  3144.0  3840.0    12072960.0        0.8187   \n",
       "1                 1982.373  train  1707.0  2136.0     3646152.0        0.7992   \n",
       "2                 2006.418  train  2845.0  3811.0    10842295.0        0.7465   \n",
       "3                 61.101.3  train  3811.0  2916.0    11112876.0        1.3069   \n",
       "4                    09.95  train  3811.0  2099.0     7999289.0        1.8156   \n",
       "\n",
       "                      organized_img_path  \\\n",
       "0  ./data/train/Oil on canvas/436018.jpg   \n",
       "1   ./data/train/Oil on canvas/11779.jpg   \n",
       "2   ./data/train/Oil on canvas/19022.jpg   \n",
       "3  ./data/train/Oil on canvas/435883.jpg   \n",
       "4   ./data/train/Oil on canvas/10481.jpg   \n",
       "\n",
       "                      Organized_img_path  \n",
       "0  ./data/train/Oil on canvas/436018.jpg  \n",
       "1   ./data/train/Oil on canvas/11779.jpg  \n",
       "2   ./data/train/Oil on canvas/19022.jpg  \n",
       "3  ./data/train/Oil on canvas/435883.jpg  \n",
       "4   ./data/train/Oil on canvas/10481.jpg  "
      ]
     },
     "execution_count": 89,
     "metadata": {},
     "output_type": "execute_result"
    }
   ],
   "source": [
    "data_df.head()"
   ]
  },
  {
   "cell_type": "code",
   "execution_count": 93,
   "id": "1af0eb6a",
   "metadata": {
    "scrolled": true
   },
   "outputs": [],
   "source": [
    "data_df = data_df.drop('organized_img_path', axis=1) "
   ]
  },
  {
   "cell_type": "code",
   "execution_count": 94,
   "id": "bd6fd989",
   "metadata": {},
   "outputs": [],
   "source": [
    "data_df.to_csv('Organized_MAMe_dataset.csv')"
   ]
  },
  {
   "cell_type": "code",
   "execution_count": 49,
   "id": "d2cd1b36",
   "metadata": {},
   "outputs": [],
   "source": [
    "def plot_data(classes, len_col):\n",
    "    \n",
    "    \n",
    "    len_row = classes // len_col + int((classes // len_col) != 0) \n",
    "    for  cls in classes:\n",
    "        row_idx = classes.index(cls) // len_col \n",
    "        col_idx = classes.index(cls) % len_col \n",
    "        \n",
    "        \n",
    "        \n",
    "        \n",
    "    print(len_row) "
   ]
  },
  {
   "cell_type": "code",
   "execution_count": 53,
   "id": "04e7c2c7",
   "metadata": {
    "scrolled": false
   },
   "outputs": [
    {
     "data": {
      "image/png": "[encoded data removed]",
      "text/plain": [
       "<Figure size 640x480 with 1 Axes>"
      ]
     },
     "metadata": {},
     "output_type": "display_data"
    }
   ],
   "source": [
    "ax1 = plt.subplot2grid((3, 3), (0, 0), colspan = 3, rowspan = 1) "
   ]
  },
  {
   "cell_type": "code",
   "execution_count": 54,
   "id": "ec4c0c19",
   "metadata": {},
   "outputs": [
    {
     "ename": "NameError",
     "evalue": "name 'img_df' is not defined",
     "output_type": "error",
     "traceback": [
      "\u001b[1;31m---------------------------------------------------------------------------\u001b[0m",
      "\u001b[1;31mNameError\u001b[0m                                 Traceback (most recent call last)",
      "Cell \u001b[1;32mIn [54], line 3\u001b[0m\n\u001b[0;32m      1\u001b[0m \u001b[38;5;28;01mfor\u001b[39;00m c \u001b[38;5;129;01min\u001b[39;00m classes:\n\u001b[0;32m      2\u001b[0m     \u001b[38;5;66;03m# Get a random sample of an instance with class c\u001b[39;00m\n\u001b[1;32m----> 3\u001b[0m     filename \u001b[38;5;241m=\u001b[39m img_df[img_df[\u001b[38;5;124m'\u001b[39m\u001b[38;5;124mclass\u001b[39m\u001b[38;5;124m'\u001b[39m]\u001b[38;5;241m==\u001b[39mc]\u001b[38;5;241m.\u001b[39msample(\u001b[38;5;241m1\u001b[39m)[\u001b[38;5;124m'\u001b[39m\u001b[38;5;124mfilename\u001b[39m\u001b[38;5;124m'\u001b[39m]\u001b[38;5;241m.\u001b[39mvalues[\u001b[38;5;241m0\u001b[39m]\n\u001b[0;32m      5\u001b[0m     \u001b[38;5;66;03m# Plot image\u001b[39;00m\n\u001b[0;32m      6\u001b[0m     plt\u001b[38;5;241m.\u001b[39msubplot(\u001b[38;5;241m6\u001b[39m, \u001b[38;5;241m5\u001b[39m, i)\n",
      "\u001b[1;31mNameError\u001b[0m: name 'img_df' is not defined"
     ]
    }
   ],
   "source": [
    "for c in classes:\n",
    "    # Get a random sample of an instance with class c\n",
    "    filename = img_df[img_df['class']==c].sample(1)['filename'].values[0]\n",
    "        \n",
    "    # Plot image\n",
    "    plt.subplot(6, 5, i)\n",
    "    plt.imshow(load_img(filename))\n",
    "    plt.title(c, fontsize=16)\n",
    "    plt.axis('off')\n",
    "    i += 1\n",
    "                  \n",
    "    plt.show()\n"
   ]
  },
  {
   "cell_type": "code",
   "execution_count": 50,
   "id": "123fd71d",
   "metadata": {
    "scrolled": true
   },
   "outputs": [
    {
     "name": "stdout",
     "output_type": "stream",
     "text": [
      "6\n"
     ]
    }
   ],
   "source": [
    "plot_data(29, 5) "
   ]
  },
  {
   "cell_type": "code",
   "execution_count": 52,
   "id": "14bf9b51",
   "metadata": {},
   "outputs": [
    {
     "data": {
      "text/plain": [
       "0"
      ]
     },
     "execution_count": 52,
     "metadata": {},
     "output_type": "execute_result"
    }
   ],
   "source": [
    "4 // 6"
   ]
  },
  {
   "cell_type": "code",
   "execution_count": null,
   "id": "cde8513c",
   "metadata": {},
   "outputs": [],
   "source": []
  },
  {
   "cell_type": "code",
   "execution_count": null,
   "id": "351275db",
   "metadata": {},
   "outputs": [],
   "source": [
    "def load_mame(dataframe=False):\n",
    "    \"\"\" Load MAMe dataset data\n",
    "    Args:\n",
    "      dataframe (bool): whether to return a dataframe or an array of \n",
    "                        filenames and a list of labels\n",
    "      \n",
    "    Returns:\n",
    "      (x_train, y_train), (x_val, y_val), (x_test, y_test) if dataframe=False\n",
    "      or\n",
    "      df_train, df_val, df_test if dataframe=True\n",
    "    \"\"\"\n",
    "    INPUT_PATH = '/kaggle/input/'\n",
    "\n",
    "    # Load dataset table\n",
    "    dataset = pd.read_csv(os.path.join(INPUT_PATH, 'mame-dataset', 'MAMe_dataset.csv'))\n",
    "    \n",
    "    # Subset divisions\n",
    "    x_train_files = dataset.loc[dataset['Subset'] == 'train']['Image file'].tolist()\n",
    "    y_train_class = dataset.loc[dataset['Subset'] == 'train']['Medium'].tolist()\n",
    "\n",
    "    x_val_files = dataset.loc[dataset['Subset'] == 'val']['Image file'].tolist()\n",
    "    y_val_class = dataset.loc[dataset['Subset'] == 'val']['Medium'].tolist()\n",
    "\n",
    "    x_test_files = dataset.loc[dataset['Subset'] == 'test']['Image file'].tolist()\n",
    "    y_test_class = dataset.loc[dataset['Subset'] == 'test']['Medium'].tolist()\n",
    "\n",
    "    if dataframe:\n",
    "        train = pd.DataFrame({'filename': x_train_files, 'class': y_train_class})\n",
    "        val = pd.DataFrame({'filename': x_val_files, 'class': y_val_class})\n",
    "        test = pd.DataFrame({'filename': x_test_files, 'class': y_test_class})\n",
    "        \n",
    "        # Set full path\n",
    "        train['filename'] = train['filename'].transform(lambda x: INPUT_PATH + 'mame-dataset' + os.sep + 'data' + os.sep + x)\n",
    "        val['filename'] = val['filename'].transform(lambda x: INPUT_PATH + 'mame-dataset' + os.sep + 'data' + os.sep + x)\n",
    "        test['filename'] = test['filename'].transform(lambda x: INPUT_PATH + 'mame-dataset' + os.sep + 'data' + os.sep + x)\n",
    "        \n",
    "        return train, val, test\n",
    "    \n",
    "    else:\n",
    "        # Return list of filenames\n",
    "        x_train = [os.path.join(INPUT_PATH, 'mame-dataset', 'data', img_name) for img_name in x_train_files]\n",
    "        x_val = [os.path.join(INPUT_PATH, 'mame-dataset', 'data', img_name) for img_name in x_val_files]\n",
    "        x_test = [os.path.join(INPUT_PATH, 'mame-dataset', 'data', img_name) for img_name in x_test_files]\n",
    "\n",
    "        return (np.array(x_train), np.array(y_train_class)), (np.array(x_val), \n",
    "              np.array(y_val_class)), (np.array(x_test), np.array(y_test_class))\n",
    "    \n",
    "\n",
    "df_train, df_val, df_test = load_mame(dataframe=True)\n",
    "print(df_train.head())"
   ]
  },
  {
   "cell_type": "code",
   "execution_count": 8,
   "id": "6d1e135d",
   "metadata": {},
   "outputs": [
    {
     "data": {
      "text/plain": [
       "'D:\\\\UPC_Course3\\\\DL\\\\dl_project1'"
      ]
     },
     "execution_count": 8,
     "metadata": {},
     "output_type": "execute_result"
    }
   ],
   "source": [
    "os.getcwd()"
   ]
  },
  {
   "cell_type": "code",
   "execution_count": null,
   "id": "a2ee911f",
   "metadata": {},
   "outputs": [],
   "source": []
  },
  {
   "cell_type": "code",
   "execution_count": null,
   "id": "f82c14a3",
   "metadata": {},
   "outputs": [],
   "source": []
  },
  {
   "cell_type": "code",
   "execution_count": null,
   "id": "60ceed4c",
   "metadata": {},
   "outputs": [],
   "source": [
    "data_df = pd.read_csv()"
   ]
  }
 ],
 "metadata": {
  "kernelspec": {
   "display_name": "Python 3 (ipykernel)",
   "language": "python",
   "name": "python3"
  },
  "language_info": {
   "codemirror_mode": {
    "name": "ipython",
    "version": 3
   },
   "file_extension": ".py",
   "mimetype": "text/x-python",
   "name": "python",
   "nbconvert_exporter": "python",
   "pygments_lexer": "ipython3",
   "version": "3.8.0"
  }
 },
 "nbformat": 4,
 "nbformat_minor": 5
}
